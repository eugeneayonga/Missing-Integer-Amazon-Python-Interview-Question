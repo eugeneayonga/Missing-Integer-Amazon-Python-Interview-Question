{
 "cells": [
  {
   "cell_type": "code",
   "execution_count": 4,
   "metadata": {},
   "outputs": [
    {
     "name": "stdout",
     "output_type": "stream",
     "text": [
      "2\n",
      "0\n"
     ]
    }
   ],
   "source": [
    "\"\"\"Missing Integer [Amazon Python Interview Question]\n",
    "\n",
    "Given an input list containing n distinct numbers in the range 0 to n, return the only number in the range that is missing from the list.\n",
    "\n",
    "For example, given input = [0,1,3], return 2. Because the input list has 3 elements in it, we expect to see the numbers 0 to 3 in there, but 2 is missing.\n",
    "\n",
    "Another example: given input = [4, 3, 2, 1], return 0. We return 0 becuase the input list has 4 elements in it, so we expect to see the numbers 0 to 4 in there, but 0 itself is missing!\n",
    "\n",
    "\"\"\"\n",
    "\n",
    "def missing_int(input: list[int])-> int:\n",
    "    \"\"\"Returns only number in the range, missing from list\n",
    "\n",
    "    Args:\n",
    "        input (list[int]): list containing n distinct numbers in the range 0 to n\n",
    "\n",
    "    Returns:\n",
    "        int: only number in range missing from the list\n",
    "    \"\"\"\n",
    "    n = len(input)\n",
    "    return sum(range(n+1)) - sum(input)\n",
    "\n",
    "# Call the function\n",
    "print(missing_int([0,1,3]))\n",
    "print(missing_int([4, 3, 2, 1]))"
   ]
  }
 ],
 "metadata": {
  "kernelspec": {
   "display_name": "Python 3",
   "language": "python",
   "name": "python3"
  },
  "language_info": {
   "codemirror_mode": {
    "name": "ipython",
    "version": 3
   },
   "file_extension": ".py",
   "mimetype": "text/x-python",
   "name": "python",
   "nbconvert_exporter": "python",
   "pygments_lexer": "ipython3",
   "version": "3.9.6"
  }
 },
 "nbformat": 4,
 "nbformat_minor": 2
}
